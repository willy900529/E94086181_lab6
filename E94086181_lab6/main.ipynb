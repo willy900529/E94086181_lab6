{
 "cells": [
  {
   "cell_type": "code",
   "execution_count": null,
   "metadata": {},
   "outputs": [],
   "source": [
    "import pygame\n",
    "from game import Game\n",
    "from settings import FPS\n",
    "\n",
    "if __name__ == '__main__':\n",
    "    # initialization\n",
    "    pygame.init()\n",
    "    # set the window\n",
    "    pygame.display.set_caption(\"My TD game\")\n",
    "\n",
    "    covid_game = Game()\n",
    "    quit_game = False\n",
    "    while not quit_game:\n",
    "        pygame.time.Clock().tick(FPS)\n",
    "        quit_game = covid_game.update()\n",
    "        covid_game.draw()\n",
    "\n",
    "    pygame.quit()\n"
   ]
  }
 ],
 "metadata": {
  "kernelspec": {
   "display_name": "Python 3",
   "language": "python",
   "name": "python3"
  },
  "language_info": {
   "name": ""
  }
 },
 "nbformat": 4,
 "nbformat_minor": 4
}
